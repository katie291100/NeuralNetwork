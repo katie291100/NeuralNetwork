{
  "nbformat": 4,
  "nbformat_minor": 0,
  "metadata": {
    "colab": {
      "name": "INT2_Group2.ipynb",
      "provenance": [],
      "collapsed_sections": [],
      "toc_visible": true,
      "include_colab_link": true
    },
    "kernelspec": {
      "name": "python3",
      "display_name": "Python 3"
    },
    "language_info": {
      "name": "python"
    },
    "accelerator": "GPU",
    "widgets": {
      "application/vnd.jupyter.widget-state+json": {
        "8870315c14be4cd1b023118ae4d0c973": {
          "model_module": "jupyter-captum-insights",
          "model_name": "CaptumInsightsModel",
          "model_module_version": "^0.1.0",
          "state": {
            "_dom_classes": [],
            "_model_module": "jupyter-captum-insights",
            "_model_module_version": "^0.1.0",
            "_model_name": "CaptumInsightsModel",
            "_view_count": null,
            "_view_module": "jupyter-captum-insights",
            "_view_module_version": "^0.1.0",
            "_view_name": "CaptumInsightsView",
            "attribution": {},
            "config": {},
            "insights_config": {
              "classes": [
                "airplane",
                "automobile",
                "bird",
                "cat",
                "deer",
                "dog",
                "frog",
                "horse",
                "ship",
                "truck"
              ],
              "methods": [
                "Deconvolution",
                "Deep Lift",
                "Guided Backprop",
                "Input X Gradient",
                "Integrated Gradients",
                "Saliency",
                "Feature Ablation",
                "Occlusion"
              ],
              "method_arguments": {
                "Integrated Gradients": {
                  "n_steps": {
                    "value": 25,
                    "limit": [
                      2,
                      null
                    ],
                    "type": "number"
                  },
                  "method": {
                    "value": "gausslegendre",
                    "limit": [
                      "riemann_left",
                      "riemann_right",
                      "riemann_middle",
                      "riemann_trapezoid",
                      "gausslegendre"
                    ],
                    "type": "enum"
                  }
                },
                "Feature Ablation": {
                  "perturbations_per_eval": {
                    "value": 1,
                    "limit": [
                      1,
                      100
                    ],
                    "type": "number"
                  }
                },
                "Occlusion": {
                  "sliding_window_shapes": {
                    "value": "",
                    "type": "string"
                  },
                  "strides": {
                    "value": "",
                    "type": "string"
                  },
                  "perturbations_per_eval": {
                    "value": 1,
                    "limit": [
                      1,
                      100
                    ],
                    "type": "number"
                  }
                }
              },
              "selected_method": "Integrated Gradients"
            },
            "label_details": {},
            "layout": "IPY_MODEL_ab0e75e4551240e5932b920b388322bd",
            "output": []
          }
        },
        "4f24d3272ce248c184b71793d34bd1ef": {
          "model_module": "@jupyter-widgets/output",
          "model_name": "OutputModel",
          "model_module_version": "1.0.0",
          "state": {
            "_dom_classes": [],
            "_model_module": "@jupyter-widgets/output",
            "_model_module_version": "1.0.0",
            "_model_name": "OutputModel",
            "_view_count": null,
            "_view_module": "@jupyter-widgets/output",
            "_view_module_version": "1.0.0",
            "_view_name": "OutputView",
            "layout": "IPY_MODEL_29327f786a7e401884e7808bdfa64c87",
            "msg_id": "",
            "outputs": [
              {
                "output_type": "stream",
                "name": "stdout",
                "text": [
                  "Captum Insights widget created.\n"
                ]
              }
            ]
          }
        },
        "29327f786a7e401884e7808bdfa64c87": {
          "model_module": "@jupyter-widgets/base",
          "model_name": "LayoutModel",
          "model_module_version": "1.2.0",
          "state": {
            "_model_module": "@jupyter-widgets/base",
            "_model_module_version": "1.2.0",
            "_model_name": "LayoutModel",
            "_view_count": null,
            "_view_module": "@jupyter-widgets/base",
            "_view_module_version": "1.2.0",
            "_view_name": "LayoutView",
            "align_content": null,
            "align_items": null,
            "align_self": null,
            "border": null,
            "bottom": null,
            "display": null,
            "flex": null,
            "flex_flow": null,
            "grid_area": null,
            "grid_auto_columns": null,
            "grid_auto_flow": null,
            "grid_auto_rows": null,
            "grid_column": null,
            "grid_gap": null,
            "grid_row": null,
            "grid_template_areas": null,
            "grid_template_columns": null,
            "grid_template_rows": null,
            "height": null,
            "justify_content": null,
            "justify_items": null,
            "left": null,
            "margin": null,
            "max_height": null,
            "max_width": null,
            "min_height": null,
            "min_width": null,
            "object_fit": null,
            "object_position": null,
            "order": null,
            "overflow": null,
            "overflow_x": null,
            "overflow_y": null,
            "padding": null,
            "right": null,
            "top": null,
            "visibility": null,
            "width": null
          }
        }
      }
    }
  },
  "cells": [
    {
      "cell_type": "markdown",
      "metadata": {
        "id": "view-in-github",
        "colab_type": "text"
      },
      "source": [
        "<a href=\"https://colab.research.google.com/github/INT2-Team2/NeuralNetwork/blob/Adam/INT2_Group2.ipynb\" target=\"_parent\"><img src=\"https://colab.research.google.com/assets/colab-badge.svg\" alt=\"Open In Colab\"/></a>"
      ]
    },
    {
      "cell_type": "code",
      "source": [
        "%%capture\n",
        "%%bash\n",
        "pip install captum\n",
        "pip install flask_compress\n",
        "conda install freetype=2.10.4"
      ],
      "metadata": {
        "id": "q2C1BTjcSRKV"
      },
      "execution_count": 27,
      "outputs": []
    },
    {
      "cell_type": "code",
      "source": [
        "import torch\n",
        "import torch.nn as nn\n",
        "import torchvision\n",
        "import torchvision.transforms as transforms\n",
        "from captum.attr import IntegratedGradients\n",
        "from captum.attr import LayerConductance\n",
        "from captum.attr import NeuronConductance\n",
        "from captum.insights import AttributionVisualizer, Batch\n",
        "from captum.insights.attr_vis.features import ImageFeature\n",
        "import time"
      ],
      "metadata": {
        "id": "0xH_hHVqFbZR"
      },
      "execution_count": 28,
      "outputs": []
    },
    {
      "cell_type": "code",
      "source": [
        "if torch.cuda.is_available(): # use gpu if possible\n",
        "  device = torch.device(\"cuda\")\n",
        "else:\n",
        "  device = torch.device(\"cpu\")"
      ],
      "metadata": {
        "id": "FFdWQBwiFgwx"
      },
      "execution_count": 29,
      "outputs": []
    },
    {
      "cell_type": "code",
      "source": [
        "epochs = 2\n",
        "batch_size = 10\n",
        "learning_rate = 0.0001\n",
        "\n",
        "# only need resize so AlexNet works\n",
        "transform = transforms.Compose([transforms.Resize((227,227)), \n",
        "                                transforms.ToTensor(), \n",
        "                                transforms.Normalize((0.5, 0.5, 0.5), \n",
        "                                                     (0.5, 0.5, 0.5))])"
      ],
      "metadata": {
        "id": "RlqjK1yMFg3A"
      },
      "execution_count": 30,
      "outputs": []
    },
    {
      "cell_type": "code",
      "source": [
        "# get training/test data from CIFAR10 dataset\n",
        "train_data = torchvision.datasets.CIFAR10(root = \"./dataset\", \n",
        "                                        train = True, \n",
        "                                        transform = transform, \n",
        "                                        download = True)\n",
        "test_data = torchvision.datasets.CIFAR10(root = \"./dataset\", \n",
        "                                       train = False, \n",
        "                                       transform = transform, \n",
        "                                       download = True)"
      ],
      "metadata": {
        "id": "hpne52DpFg7h",
        "colab": {
          "base_uri": "https://localhost:8080/"
        },
        "outputId": "e90fa883-91e2-4991-a797-1aa9e1d86c1f"
      },
      "execution_count": 31,
      "outputs": [
        {
          "output_type": "stream",
          "name": "stdout",
          "text": [
            "Files already downloaded and verified\n",
            "Files already downloaded and verified\n"
          ]
        }
      ]
    },
    {
      "cell_type": "code",
      "source": [
        "train_loader = torch.utils.data.DataLoader(dataset = train_data, \n",
        "                                           batch_size = batch_size, \n",
        "                                           shuffle = True, \n",
        "                                           num_workers = 2)\n",
        "test_loader = torch.utils.data.DataLoader(dataset = test_data, \n",
        "                                          batch_size = batch_size, \n",
        "                                          shuffle = False, \n",
        "                                          num_workers = 2)"
      ],
      "metadata": {
        "id": "GQ1RfNQ9Fg9w"
      },
      "execution_count": 32,
      "outputs": []
    },
    {
      "cell_type": "code",
      "source": [
        "class CNN(nn.Module):\n",
        "  def __init__(self):\n",
        "    super(CNN, self).__init__()\n",
        "    # Implementing AlexNet, try others later\n",
        "    # Coppied a bit from:\n",
        "    # https://medium.com/analytics-vidhya/alexnet-a-simple-implementation-using-pytorch-30c14e8b6db2\n",
        "    # and\n",
        "    # https://www.youtube.com/watch?v=pDdP0TFzsoQ&ab_channel=PythonEngineer\n",
        "\n",
        "    #\n",
        "    # Can't use AlexNet but can take 'inspiration' from it\n",
        "    #\n",
        "    # \"You may take inspiration from existing network architectures, but you need to design/write the architecture yourself\" (from the exam paper)\n",
        "    #\n",
        "    # need to change this section\n",
        "    \n",
        "    self.conv1 = nn.Conv2d(3, 96, 11, 4)\n",
        "    self.conv2 = nn.Conv2d(96, 256, 5, 1, 2)\n",
        "    self.conv3 = nn.Conv2d(256, 384, 3, 1, 1)\n",
        "    self.conv4 = nn.Conv2d(384, 384, 3, 1, 1)\n",
        "    self.conv5 = nn.Conv2d(384, 256, 3, 1, 1)\n",
        "\n",
        "    self.maxPool = nn.MaxPool2d(3, 2)\n",
        "\n",
        "    self.fc1 = nn.Linear(9216, 4096)\n",
        "    self.fc2 = nn.Linear(4096, 4096)\n",
        "    self.fc3 = nn.Linear(4096, 10)\n",
        "  \n",
        "  def forward(self, x):\n",
        "    x = nn.functional.relu(self.conv1(x))\n",
        "    x = self.maxPool(x)\n",
        "    x = nn.functional.relu(self.conv2(x))\n",
        "    x = self.maxPool(x)\n",
        "    x = nn.functional.relu(self.conv3(x))\n",
        "    x = nn.functional.relu(self.conv4(x))\n",
        "    x = nn.functional.relu(self.conv5(x))\n",
        "    x = self.maxPool(x)\n",
        "    x = x.reshape(x.shape[0], -1)\n",
        "    x = nn.functional.relu(self.fc1(x))\n",
        "    x = nn.functional.relu(self.fc2(x))\n",
        "    x = self.fc3(x)\n",
        "    return x\n",
        "  "
      ],
      "metadata": {
        "id": "TxH5nWm3FhAg"
      },
      "execution_count": 33,
      "outputs": []
    },
    {
      "cell_type": "code",
      "source": [
        "# Model creation\n",
        "\n",
        "model = CNN().to(device)"
      ],
      "metadata": {
        "id": "7plTux-MVcJc"
      },
      "execution_count": 34,
      "outputs": []
    },
    {
      "cell_type": "code",
      "source": [
        "def test():\n",
        "  print(\"Testing\")\n",
        "  with torch.no_grad():\n",
        "    correct = 0\n",
        "    samples = 0\n",
        "\n",
        "    for (images, labels) in test_loader:\n",
        "      images = images.to(device)\n",
        "      labels = labels.to(device)\n",
        "\n",
        "      outputs = model(images)\n",
        "      _, predictions = outputs.max(1)\n",
        "\n",
        "      samples += labels.size(0)\n",
        "      correct += (predictions == labels).sum()\n",
        "\n",
        "    print(\"Test accuracy was\",100*float(correct)/float(samples))\n",
        "    print()"
      ],
      "metadata": {
        "id": "7o82gzD7UCBE"
      },
      "execution_count": 35,
      "outputs": []
    },
    {
      "cell_type": "code",
      "source": [
        "## Training\n",
        "\n",
        "# try other loss functions/optimizers\n",
        "criterion = nn.CrossEntropyLoss()\n",
        "optimizer = torch.optim.Adam(model.parameters(), learning_rate)\n",
        "\n",
        "test_per_epoch = True\n",
        "train_for_time = 20 # how many minutes to train for (and then finish current epoch)\n",
        "\n",
        "if train_for_time:\n",
        "  epochs = train_for_time*1000\n",
        "start = time.time()\n",
        "\n",
        "for epoch in range(epochs):\n",
        "  print(\"Training\")\n",
        "  epoch_loss = 0\n",
        "  for i, (images, labels) in enumerate(train_loader):\n",
        "    images = images.to(device)\n",
        "    labels = labels.to(device)\n",
        "\n",
        "    # forwards\n",
        "    outputs = model(images)\n",
        "    loss = criterion(outputs, labels)\n",
        "\n",
        "    # backwards\n",
        "    optimizer.zero_grad()\n",
        "    loss.backward()\n",
        "    optimizer.step()\n",
        "\n",
        "    epoch_loss += loss.item()\n",
        "  print(\"Epoch\", epoch+1, \"complete\")\n",
        "  print(\"Loss was\", epoch_loss/len(train_loader))\n",
        "  print()\n",
        "  if test_per_epoch:\n",
        "    test()\n",
        "  \n",
        "  if time.time()-start >= train_for_time*60:\n",
        "    break\n",
        "\n",
        "if not test_per_epoch:\n",
        "  test()"
      ],
      "metadata": {
        "id": "vNIB2TF7FhDh",
        "colab": {
          "base_uri": "https://localhost:8080/"
        },
        "outputId": "eabfce56-e326-46d7-d8d1-163f8f128906"
      },
      "execution_count": 36,
      "outputs": [
        {
          "output_type": "stream",
          "name": "stdout",
          "text": [
            "Training\n",
            "Epoch 1 complete\n",
            "Loss was 1.3808172102332115\n",
            "\n",
            "Testing\n",
            "Test accuracy was 59.67\n",
            "\n",
            "Epoch 2 complete\n",
            "Loss was 0.8386848750084639\n",
            "\n",
            "Testing\n",
            "Test accuracy was 72.42\n",
            "\n",
            "Epoch 3 complete\n",
            "Loss was 0.6066096899449825\n",
            "\n",
            "Testing\n",
            "Test accuracy was 78.07\n",
            "\n"
          ]
        }
      ]
    },
    {
      "cell_type": "code",
      "source": [
        "from google.colab import output\n",
        "output.enable_custom_widget_manager()"
      ],
      "metadata": {
        "id": "AbcR2LteVsKc"
      },
      "execution_count": 37,
      "outputs": []
    },
    {
      "cell_type": "code",
      "source": [
        "def baseline_func(input):\n",
        "  return 0\n",
        "\n",
        "visualizer = AttributionVisualizer(\n",
        "    models=[CNN],\n",
        "    score_func=lambda o: torch.nn.functional.softmax(o, 1),\n",
        "    classes= train_data.classes,\n",
        "    features=[\n",
        "        ImageFeature(\n",
        "            \"Photo\",\n",
        "            baseline_transforms=[baseline_func],\n",
        "            input_transforms=[transform],\n",
        "        )\n",
        "    ],\n",
        "    dataset=test_data,\n",
        ")"
      ],
      "metadata": {
        "id": "P-40g8R1GmaP"
      },
      "execution_count": 38,
      "outputs": []
    },
    {
      "cell_type": "code",
      "source": [
        "visualizer.render()"
      ],
      "metadata": {
        "id": "qgisu5rhVTRx",
        "colab": {
          "base_uri": "https://localhost:8080/",
          "height": 34,
          "referenced_widgets": [
            "8870315c14be4cd1b023118ae4d0c973",
            "4f24d3272ce248c184b71793d34bd1ef",
            "29327f786a7e401884e7808bdfa64c87"
          ]
        },
        "outputId": "aba0078b-67f6-4593-b0a5-7f3a13873a6a"
      },
      "execution_count": 39,
      "outputs": [
        {
          "output_type": "display_data",
          "data": {
            "text/plain": [
              "CaptumInsights(insights_config={'classes': ['airplane', 'automobile', 'bird', 'cat', 'deer', 'dog', 'frog', 'h…"
            ],
            "application/vnd.jupyter.widget-view+json": {
              "version_major": 2,
              "version_minor": 0,
              "model_id": "8870315c14be4cd1b023118ae4d0c973"
            }
          },
          "metadata": {
            "application/vnd.jupyter.widget-view+json": {
              "colab": {
                "custom_widget_manager": {
                  "url": "https://ssl.gstatic.com/colaboratory-static/widgets/colab-cdn-widget-manager/a8874ba6619b6106/manager.min.js"
                }
              }
            }
          }
        },
        {
          "output_type": "display_data",
          "data": {
            "text/plain": [
              "Output()"
            ],
            "application/vnd.jupyter.widget-view+json": {
              "version_major": 2,
              "version_minor": 0,
              "model_id": "4f24d3272ce248c184b71793d34bd1ef"
            }
          },
          "metadata": {
            "application/vnd.jupyter.widget-view+json": {
              "colab": {
                "custom_widget_manager": {
                  "url": "https://ssl.gstatic.com/colaboratory-static/widgets/colab-cdn-widget-manager/a8874ba6619b6106/manager.min.js"
                }
              }
            }
          }
        }
      ]
    }
  ]
}