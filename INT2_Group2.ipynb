{
  "nbformat": 4,
  "nbformat_minor": 0,
  "metadata": {
    "colab": {
      "name": "INT2 Group2.ipynb",
      "provenance": [],
      "collapsed_sections": [],
      "toc_visible": true,
      "include_colab_link": true
    },
    "kernelspec": {
      "name": "python3",
      "display_name": "Python 3"
    },
    "language_info": {
      "name": "python"
    },
    "accelerator": "GPU",
    "widgets": {
      "application/vnd.jupyter.widget-state+json": {
        "fbf17e130fdf465a82237609b2e01fec": {
          "model_module": "@jupyter-widgets/controls",
          "model_name": "HBoxModel",
          "model_module_version": "1.5.0",
          "state": {
            "_dom_classes": [],
            "_model_module": "@jupyter-widgets/controls",
            "_model_module_version": "1.5.0",
            "_model_name": "HBoxModel",
            "_view_count": null,
            "_view_module": "@jupyter-widgets/controls",
            "_view_module_version": "1.5.0",
            "_view_name": "HBoxView",
            "box_style": "",
            "children": [
              "IPY_MODEL_05e5750e1eab404b8ad2ca53d1b2ffd8",
              "IPY_MODEL_f873721596814b70ba862df6996a663d",
              "IPY_MODEL_1faabbcb19f04ed7a69b39d7cc63d2da"
            ],
            "layout": "IPY_MODEL_faef6bb660054356b60cd3df0f874f47"
          }
        },
        "05e5750e1eab404b8ad2ca53d1b2ffd8": {
          "model_module": "@jupyter-widgets/controls",
          "model_name": "HTMLModel",
          "model_module_version": "1.5.0",
          "state": {
            "_dom_classes": [],
            "_model_module": "@jupyter-widgets/controls",
            "_model_module_version": "1.5.0",
            "_model_name": "HTMLModel",
            "_view_count": null,
            "_view_module": "@jupyter-widgets/controls",
            "_view_module_version": "1.5.0",
            "_view_name": "HTMLView",
            "description": "",
            "description_tooltip": null,
            "layout": "IPY_MODEL_7212e4b503914ec09e1fd7421ee3b952",
            "placeholder": "​",
            "style": "IPY_MODEL_a41c49eca09f40bf96ee515d9428fdb1",
            "value": ""
          }
        },
        "f873721596814b70ba862df6996a663d": {
          "model_module": "@jupyter-widgets/controls",
          "model_name": "FloatProgressModel",
          "model_module_version": "1.5.0",
          "state": {
            "_dom_classes": [],
            "_model_module": "@jupyter-widgets/controls",
            "_model_module_version": "1.5.0",
            "_model_name": "FloatProgressModel",
            "_view_count": null,
            "_view_module": "@jupyter-widgets/controls",
            "_view_module_version": "1.5.0",
            "_view_name": "ProgressView",
            "bar_style": "success",
            "description": "",
            "description_tooltip": null,
            "layout": "IPY_MODEL_a4f18a61b37d4d58b57d8e4f190586c3",
            "max": 170498071,
            "min": 0,
            "orientation": "horizontal",
            "style": "IPY_MODEL_8d98007d14f2496ab00efa460b4fd8bf",
            "value": 170498071
          }
        },
        "1faabbcb19f04ed7a69b39d7cc63d2da": {
          "model_module": "@jupyter-widgets/controls",
          "model_name": "HTMLModel",
          "model_module_version": "1.5.0",
          "state": {
            "_dom_classes": [],
            "_model_module": "@jupyter-widgets/controls",
            "_model_module_version": "1.5.0",
            "_model_name": "HTMLModel",
            "_view_count": null,
            "_view_module": "@jupyter-widgets/controls",
            "_view_module_version": "1.5.0",
            "_view_name": "HTMLView",
            "description": "",
            "description_tooltip": null,
            "layout": "IPY_MODEL_1a005f135baa44a3bbe9e87cd45fce5e",
            "placeholder": "​",
            "style": "IPY_MODEL_1024d86173bd413f8e7086adb4d41211",
            "value": " 170499072/? [00:03&lt;00:00, 41009108.14it/s]"
          }
        },
        "faef6bb660054356b60cd3df0f874f47": {
          "model_module": "@jupyter-widgets/base",
          "model_name": "LayoutModel",
          "model_module_version": "1.2.0",
          "state": {
            "_model_module": "@jupyter-widgets/base",
            "_model_module_version": "1.2.0",
            "_model_name": "LayoutModel",
            "_view_count": null,
            "_view_module": "@jupyter-widgets/base",
            "_view_module_version": "1.2.0",
            "_view_name": "LayoutView",
            "align_content": null,
            "align_items": null,
            "align_self": null,
            "border": null,
            "bottom": null,
            "display": null,
            "flex": null,
            "flex_flow": null,
            "grid_area": null,
            "grid_auto_columns": null,
            "grid_auto_flow": null,
            "grid_auto_rows": null,
            "grid_column": null,
            "grid_gap": null,
            "grid_row": null,
            "grid_template_areas": null,
            "grid_template_columns": null,
            "grid_template_rows": null,
            "height": null,
            "justify_content": null,
            "justify_items": null,
            "left": null,
            "margin": null,
            "max_height": null,
            "max_width": null,
            "min_height": null,
            "min_width": null,
            "object_fit": null,
            "object_position": null,
            "order": null,
            "overflow": null,
            "overflow_x": null,
            "overflow_y": null,
            "padding": null,
            "right": null,
            "top": null,
            "visibility": null,
            "width": null
          }
        },
        "7212e4b503914ec09e1fd7421ee3b952": {
          "model_module": "@jupyter-widgets/base",
          "model_name": "LayoutModel",
          "model_module_version": "1.2.0",
          "state": {
            "_model_module": "@jupyter-widgets/base",
            "_model_module_version": "1.2.0",
            "_model_name": "LayoutModel",
            "_view_count": null,
            "_view_module": "@jupyter-widgets/base",
            "_view_module_version": "1.2.0",
            "_view_name": "LayoutView",
            "align_content": null,
            "align_items": null,
            "align_self": null,
            "border": null,
            "bottom": null,
            "display": null,
            "flex": null,
            "flex_flow": null,
            "grid_area": null,
            "grid_auto_columns": null,
            "grid_auto_flow": null,
            "grid_auto_rows": null,
            "grid_column": null,
            "grid_gap": null,
            "grid_row": null,
            "grid_template_areas": null,
            "grid_template_columns": null,
            "grid_template_rows": null,
            "height": null,
            "justify_content": null,
            "justify_items": null,
            "left": null,
            "margin": null,
            "max_height": null,
            "max_width": null,
            "min_height": null,
            "min_width": null,
            "object_fit": null,
            "object_position": null,
            "order": null,
            "overflow": null,
            "overflow_x": null,
            "overflow_y": null,
            "padding": null,
            "right": null,
            "top": null,
            "visibility": null,
            "width": null
          }
        },
        "a41c49eca09f40bf96ee515d9428fdb1": {
          "model_module": "@jupyter-widgets/controls",
          "model_name": "DescriptionStyleModel",
          "model_module_version": "1.5.0",
          "state": {
            "_model_module": "@jupyter-widgets/controls",
            "_model_module_version": "1.5.0",
            "_model_name": "DescriptionStyleModel",
            "_view_count": null,
            "_view_module": "@jupyter-widgets/base",
            "_view_module_version": "1.2.0",
            "_view_name": "StyleView",
            "description_width": ""
          }
        },
        "a4f18a61b37d4d58b57d8e4f190586c3": {
          "model_module": "@jupyter-widgets/base",
          "model_name": "LayoutModel",
          "model_module_version": "1.2.0",
          "state": {
            "_model_module": "@jupyter-widgets/base",
            "_model_module_version": "1.2.0",
            "_model_name": "LayoutModel",
            "_view_count": null,
            "_view_module": "@jupyter-widgets/base",
            "_view_module_version": "1.2.0",
            "_view_name": "LayoutView",
            "align_content": null,
            "align_items": null,
            "align_self": null,
            "border": null,
            "bottom": null,
            "display": null,
            "flex": null,
            "flex_flow": null,
            "grid_area": null,
            "grid_auto_columns": null,
            "grid_auto_flow": null,
            "grid_auto_rows": null,
            "grid_column": null,
            "grid_gap": null,
            "grid_row": null,
            "grid_template_areas": null,
            "grid_template_columns": null,
            "grid_template_rows": null,
            "height": null,
            "justify_content": null,
            "justify_items": null,
            "left": null,
            "margin": null,
            "max_height": null,
            "max_width": null,
            "min_height": null,
            "min_width": null,
            "object_fit": null,
            "object_position": null,
            "order": null,
            "overflow": null,
            "overflow_x": null,
            "overflow_y": null,
            "padding": null,
            "right": null,
            "top": null,
            "visibility": null,
            "width": null
          }
        },
        "8d98007d14f2496ab00efa460b4fd8bf": {
          "model_module": "@jupyter-widgets/controls",
          "model_name": "ProgressStyleModel",
          "model_module_version": "1.5.0",
          "state": {
            "_model_module": "@jupyter-widgets/controls",
            "_model_module_version": "1.5.0",
            "_model_name": "ProgressStyleModel",
            "_view_count": null,
            "_view_module": "@jupyter-widgets/base",
            "_view_module_version": "1.2.0",
            "_view_name": "StyleView",
            "bar_color": null,
            "description_width": ""
          }
        },
        "1a005f135baa44a3bbe9e87cd45fce5e": {
          "model_module": "@jupyter-widgets/base",
          "model_name": "LayoutModel",
          "model_module_version": "1.2.0",
          "state": {
            "_model_module": "@jupyter-widgets/base",
            "_model_module_version": "1.2.0",
            "_model_name": "LayoutModel",
            "_view_count": null,
            "_view_module": "@jupyter-widgets/base",
            "_view_module_version": "1.2.0",
            "_view_name": "LayoutView",
            "align_content": null,
            "align_items": null,
            "align_self": null,
            "border": null,
            "bottom": null,
            "display": null,
            "flex": null,
            "flex_flow": null,
            "grid_area": null,
            "grid_auto_columns": null,
            "grid_auto_flow": null,
            "grid_auto_rows": null,
            "grid_column": null,
            "grid_gap": null,
            "grid_row": null,
            "grid_template_areas": null,
            "grid_template_columns": null,
            "grid_template_rows": null,
            "height": null,
            "justify_content": null,
            "justify_items": null,
            "left": null,
            "margin": null,
            "max_height": null,
            "max_width": null,
            "min_height": null,
            "min_width": null,
            "object_fit": null,
            "object_position": null,
            "order": null,
            "overflow": null,
            "overflow_x": null,
            "overflow_y": null,
            "padding": null,
            "right": null,
            "top": null,
            "visibility": null,
            "width": null
          }
        },
        "1024d86173bd413f8e7086adb4d41211": {
          "model_module": "@jupyter-widgets/controls",
          "model_name": "DescriptionStyleModel",
          "model_module_version": "1.5.0",
          "state": {
            "_model_module": "@jupyter-widgets/controls",
            "_model_module_version": "1.5.0",
            "_model_name": "DescriptionStyleModel",
            "_view_count": null,
            "_view_module": "@jupyter-widgets/base",
            "_view_module_version": "1.2.0",
            "_view_name": "StyleView",
            "description_width": ""
          }
        },
        "5c12be0c47a54fea945fe3d2d77db565": {
          "model_module": "jupyter-captum-insights",
          "model_name": "CaptumInsightsModel",
          "model_module_version": "^0.1.0",
          "state": {
            "_dom_classes": [],
            "_model_module": "jupyter-captum-insights",
            "_model_module_version": "^0.1.0",
            "_model_name": "CaptumInsightsModel",
            "_view_count": null,
            "_view_module": "jupyter-captum-insights",
            "_view_module_version": "^0.1.0",
            "_view_name": "CaptumInsightsView",
            "attribution": {},
            "config": {},
            "insights_config": {
              "classes": [
                "airplane",
                "automobile",
                "bird",
                "cat",
                "deer",
                "dog",
                "frog",
                "horse",
                "ship",
                "truck"
              ],
              "methods": [
                "Deconvolution",
                "Deep Lift",
                "Guided Backprop",
                "Input X Gradient",
                "Integrated Gradients",
                "Saliency",
                "Feature Ablation",
                "Occlusion"
              ],
              "method_arguments": {
                "Integrated Gradients": {
                  "n_steps": {
                    "value": 25,
                    "limit": [
                      2,
                      null
                    ],
                    "type": "number"
                  },
                  "method": {
                    "value": "gausslegendre",
                    "limit": [
                      "riemann_left",
                      "riemann_right",
                      "riemann_middle",
                      "riemann_trapezoid",
                      "gausslegendre"
                    ],
                    "type": "enum"
                  }
                },
                "Feature Ablation": {
                  "perturbations_per_eval": {
                    "value": 1,
                    "limit": [
                      1,
                      100
                    ],
                    "type": "number"
                  }
                },
                "Occlusion": {
                  "sliding_window_shapes": {
                    "value": "",
                    "type": "string"
                  },
                  "strides": {
                    "value": "",
                    "type": "string"
                  },
                  "perturbations_per_eval": {
                    "value": 1,
                    "limit": [
                      1,
                      100
                    ],
                    "type": "number"
                  }
                }
              },
              "selected_method": "Integrated Gradients"
            },
            "label_details": {},
            "layout": "IPY_MODEL_d07f01dc35a04ceb9fff26644d79c236",
            "output": []
          }
        },
        "ce750e3eefb844fea90aa5376fe50441": {
          "model_module": "@jupyter-widgets/output",
          "model_name": "OutputModel",
          "model_module_version": "1.0.0",
          "state": {
            "_dom_classes": [],
            "_model_module": "@jupyter-widgets/output",
            "_model_module_version": "1.0.0",
            "_model_name": "OutputModel",
            "_view_count": null,
            "_view_module": "@jupyter-widgets/output",
            "_view_module_version": "1.0.0",
            "_view_name": "OutputView",
            "layout": "IPY_MODEL_26440888e2144645a86791ab85bfec80",
            "msg_id": "",
            "outputs": [
              {
                "output_type": "stream",
                "name": "stdout",
                "text": [
                  "Captum Insights widget created.\n"
                ]
              }
            ]
          }
        },
        "26440888e2144645a86791ab85bfec80": {
          "model_module": "@jupyter-widgets/base",
          "model_name": "LayoutModel",
          "model_module_version": "1.2.0",
          "state": {
            "_model_module": "@jupyter-widgets/base",
            "_model_module_version": "1.2.0",
            "_model_name": "LayoutModel",
            "_view_count": null,
            "_view_module": "@jupyter-widgets/base",
            "_view_module_version": "1.2.0",
            "_view_name": "LayoutView",
            "align_content": null,
            "align_items": null,
            "align_self": null,
            "border": null,
            "bottom": null,
            "display": null,
            "flex": null,
            "flex_flow": null,
            "grid_area": null,
            "grid_auto_columns": null,
            "grid_auto_flow": null,
            "grid_auto_rows": null,
            "grid_column": null,
            "grid_gap": null,
            "grid_row": null,
            "grid_template_areas": null,
            "grid_template_columns": null,
            "grid_template_rows": null,
            "height": null,
            "justify_content": null,
            "justify_items": null,
            "left": null,
            "margin": null,
            "max_height": null,
            "max_width": null,
            "min_height": null,
            "min_width": null,
            "object_fit": null,
            "object_position": null,
            "order": null,
            "overflow": null,
            "overflow_x": null,
            "overflow_y": null,
            "padding": null,
            "right": null,
            "top": null,
            "visibility": null,
            "width": null
          }
        }
      }
    }
  },
  "cells": [
    {
      "cell_type": "markdown",
      "metadata": {
        "id": "view-in-github",
        "colab_type": "text"
      },
      "source": [
        "<a href=\"https://colab.research.google.com/github/INT2-Team2/NeuralNetwork/blob/main/INT2_Group2.ipynb\" target=\"_parent\"><img src=\"https://colab.research.google.com/assets/colab-badge.svg\" alt=\"Open In Colab\"/></a>"
      ]
    },
    {
      "cell_type": "code",
      "source": [
        "%%capture\n",
        "%%bash\n",
        "pip install captum\n",
        "pip install flask_compress\n",
        "conda install freetype=2.10.4"
      ],
      "metadata": {
        "id": "q2C1BTjcSRKV"
      },
      "execution_count": null,
      "outputs": []
    },
    {
      "cell_type": "code",
      "source": [
        "import torch\n",
        "import torch.nn as nn\n",
        "import torchvision\n",
        "import torchvision.transforms as transforms\n",
        "from captum.attr import IntegratedGradients\n",
        "from captum.attr import LayerConductance\n",
        "from captum.attr import NeuronConductance\n",
        "from captum.insights import AttributionVisualizer, Batch\n",
        "from captum.insights.attr_vis.features import ImageFeature"
      ],
      "metadata": {
        "id": "0xH_hHVqFbZR"
      },
      "execution_count": null,
      "outputs": []
    },
    {
      "cell_type": "code",
      "source": [
        "if torch.cuda.is_available(): # use gpu if possible\n",
        "  device = torch.device(\"cuda\")\n",
        "else:\n",
        "  device = torch.device(\"cpu\")"
      ],
      "metadata": {
        "id": "FFdWQBwiFgwx"
      },
      "execution_count": null,
      "outputs": []
    },
    {
      "cell_type": "code",
      "source": [
        "epochs = 1\n",
        "batch_size = 10\n",
        "learning_rate = 0.0001\n",
        "\n",
        "# only need resize so AlexNet works\n",
        "transform = transforms.Compose([transforms.Resize((227,227)), \n",
        "                                transforms.ToTensor(), \n",
        "                                transforms.Normalize((0.5, 0.5, 0.5), \n",
        "                                                     (0.5, 0.5, 0.5))])"
      ],
      "metadata": {
        "id": "RlqjK1yMFg3A"
      },
      "execution_count": null,
      "outputs": []
    },
    {
      "cell_type": "code",
      "source": [
        "# get training/test data from CIFAR10 dataset\n",
        "train_data = torchvision.datasets.CIFAR10(root = \"./dataset\", \n",
        "                                        train = True, \n",
        "                                        transform = transform, \n",
        "                                        download = True)\n",
        "test_data = torchvision.datasets.CIFAR10(root = \"./dataset\", \n",
        "                                       train = False, \n",
        "                                       transform = transform, \n",
        "                                       download = True)"
      ],
      "metadata": {
        "id": "hpne52DpFg7h",
        "colab": {
          "base_uri": "https://localhost:8080/",
          "height": 101,
          "referenced_widgets": [
            "fbf17e130fdf465a82237609b2e01fec",
            "05e5750e1eab404b8ad2ca53d1b2ffd8",
            "f873721596814b70ba862df6996a663d",
            "1faabbcb19f04ed7a69b39d7cc63d2da",
            "faef6bb660054356b60cd3df0f874f47",
            "7212e4b503914ec09e1fd7421ee3b952",
            "a41c49eca09f40bf96ee515d9428fdb1",
            "a4f18a61b37d4d58b57d8e4f190586c3",
            "8d98007d14f2496ab00efa460b4fd8bf",
            "1a005f135baa44a3bbe9e87cd45fce5e",
            "1024d86173bd413f8e7086adb4d41211"
          ]
        },
        "outputId": "95aa90ee-d2e9-455b-843c-648bd401b0ff"
      },
      "execution_count": null,
      "outputs": [
        {
          "output_type": "stream",
          "name": "stdout",
          "text": [
            "Downloading https://www.cs.toronto.edu/~kriz/cifar-10-python.tar.gz to ./dataset/cifar-10-python.tar.gz\n"
          ]
        },
        {
          "output_type": "display_data",
          "data": {
            "text/plain": [
              "  0%|          | 0/170498071 [00:00<?, ?it/s]"
            ],
            "application/vnd.jupyter.widget-view+json": {
              "version_major": 2,
              "version_minor": 0,
              "model_id": "fbf17e130fdf465a82237609b2e01fec"
            }
          },
          "metadata": {}
        },
        {
          "output_type": "stream",
          "name": "stdout",
          "text": [
            "Extracting ./dataset/cifar-10-python.tar.gz to ./dataset\n",
            "Files already downloaded and verified\n"
          ]
        }
      ]
    },
    {
      "cell_type": "code",
      "source": [
        "train_loader = torch.utils.data.DataLoader(dataset = train_data, \n",
        "                                           batch_size = batch_size, \n",
        "                                           shuffle = True, \n",
        "                                           num_workers = 2)\n",
        "test_loader = torch.utils.data.DataLoader(dataset = test_data, \n",
        "                                          batch_size = batch_size, \n",
        "                                          shuffle = False, \n",
        "                                          num_workers = 2)"
      ],
      "metadata": {
        "id": "GQ1RfNQ9Fg9w"
      },
      "execution_count": null,
      "outputs": []
    },
    {
      "cell_type": "code",
      "source": [
        "class CNN(nn.Module):\n",
        "  def __init__(self):\n",
        "    super(CNN, self).__init__()\n",
        "    # Implementing AlexNet, try others later\n",
        "    # Coppied a bit from:\n",
        "    # https://medium.com/analytics-vidhya/alexnet-a-simple-implementation-using-pytorch-30c14e8b6db2\n",
        "    # and\n",
        "    # https://www.youtube.com/watch?v=pDdP0TFzsoQ&ab_channel=PythonEngineer\n",
        "\n",
        "    #\n",
        "    # Can't use AlexNet but can take 'inspiration' from it\n",
        "    #\n",
        "    # \"You may take inspiration from existing network architectures, but you need to design/write the architecture yourself\" (from the exam paper)\n",
        "    #\n",
        "    # need to change this section\n",
        "    \n",
        "    self.conv1 = nn.Conv2d(3, 96, 11, 4)\n",
        "    self.conv2 = nn.Conv2d(96, 256, 5, 1, 2)\n",
        "    self.conv3 = nn.Conv2d(256, 384, 3, 1, 1)\n",
        "    self.conv4 = nn.Conv2d(384, 384, 3, 1, 1)\n",
        "    self.conv5 = nn.Conv2d(384, 256, 3, 1, 1)\n",
        "\n",
        "    self.maxPool = nn.MaxPool2d(3, 2)\n",
        "\n",
        "    self.fc1 = nn.Linear(9216, 4096)\n",
        "    self.fc2 = nn.Linear(4096, 4096)\n",
        "    self.fc3 = nn.Linear(4096, 10)\n",
        "  \n",
        "  def forward(self, x):\n",
        "    x = nn.functional.relu(self.conv1(x))\n",
        "    x = self.maxPool(x)\n",
        "    x = nn.functional.relu(self.conv2(x))\n",
        "    x = self.maxPool(x)\n",
        "    x = nn.functional.relu(self.conv3(x))\n",
        "    x = nn.functional.relu(self.conv4(x))\n",
        "    x = nn.functional.relu(self.conv5(x))\n",
        "    x = self.maxPool(x)\n",
        "    x = x.reshape(x.shape[0], -1)\n",
        "    x = nn.functional.relu(self.fc1(x))\n",
        "    x = nn.functional.relu(self.fc2(x))\n",
        "    x = self.fc3(x)\n",
        "    return x\n",
        "  "
      ],
      "metadata": {
        "id": "TxH5nWm3FhAg"
      },
      "execution_count": null,
      "outputs": []
    },
    {
      "cell_type": "code",
      "source": [
        "# Model creation\n",
        "\n",
        "model = CNN().to(device)"
      ],
      "metadata": {
        "id": "7plTux-MVcJc"
      },
      "execution_count": null,
      "outputs": []
    },
    {
      "cell_type": "code",
      "source": [
        "## Training\n",
        "\n",
        "# try other loss functions/optimizers\n",
        "criterion = nn.CrossEntropyLoss()\n",
        "optimizer = torch.optim.Adam(model.parameters(), learning_rate)\n",
        "\n",
        "print(\"Training\")\n",
        "for epoch in range(epochs):\n",
        "  epoch_loss = 0\n",
        "  for i, (images, labels) in enumerate(train_loader):\n",
        "    images = images.to(device)\n",
        "    labels = labels.to(device)\n",
        "\n",
        "    # forwards\n",
        "    outputs = model(images)\n",
        "    loss = criterion(outputs, labels)\n",
        "\n",
        "    # backwards\n",
        "    optimizer.zero_grad()\n",
        "    loss.backward()\n",
        "    optimizer.step()\n",
        "\n",
        "    epoch_loss += loss.item()\n",
        "  print(\"Epoch\", epoch+1, \"complete\")\n",
        "  print(\"Loss was\", epoch_loss/len(train_loader))\n",
        "  print()\n",
        "\n",
        "print(\"Testing\")\n",
        "with torch.no_grad():\n",
        "  correct = 0\n",
        "  samples = 0\n",
        "\n",
        "  for (images, labels) in test_loader:\n",
        "    images = images.to(device)\n",
        "    labels = labels.to(device)\n",
        "\n",
        "    outputs = model(images)\n",
        "    _, predictions = outputs.max(1)\n",
        "\n",
        "    samples += labels.size(0)\n",
        "    correct += (predictions == labels).sum()\n",
        "\n",
        "  print(\"Final accuracy was\",100*float(correct)/float(samples))\n"
      ],
      "metadata": {
        "id": "vNIB2TF7FhDh",
        "colab": {
          "base_uri": "https://localhost:8080/"
        },
        "outputId": "18116e12-caa0-423e-93d3-9a327f0fd6f2"
      },
      "execution_count": null,
      "outputs": [
        {
          "output_type": "stream",
          "name": "stdout",
          "text": [
            "Training\n",
            "Epoch 1 complete\n",
            "Loss was 1.392159874278307\n",
            "\n",
            "Testing\n",
            "Final accuracy was 63.65\n"
          ]
        }
      ]
    },
    {
      "cell_type": "code",
      "source": [
        "from google.colab import output\n",
        "output.enable_custom_widget_manager()"
      ],
      "metadata": {
        "id": "AbcR2LteVsKc"
      },
      "execution_count": null,
      "outputs": []
    },
    {
      "cell_type": "code",
      "source": [
        "def baseline_func(input):\n",
        "  return 0\n",
        "\n",
        "visualizer = AttributionVisualizer(\n",
        "    models=[CNN],\n",
        "    score_func=lambda o: torch.nn.functional.softmax(o, 1),\n",
        "    classes= train_data.classes,\n",
        "    features=[\n",
        "        ImageFeature(\n",
        "            \"Photo\",\n",
        "            baseline_transforms=[baseline_func],\n",
        "            input_transforms=[transform],\n",
        "        )\n",
        "    ],\n",
        "    dataset=test_data,\n",
        ")"
      ],
      "metadata": {
        "id": "P-40g8R1GmaP"
      },
      "execution_count": null,
      "outputs": []
    },
    {
      "cell_type": "code",
      "source": [
        "visualizer.render()"
      ],
      "metadata": {
        "id": "qgisu5rhVTRx",
        "colab": {
          "base_uri": "https://localhost:8080/",
          "height": 34,
          "referenced_widgets": [
            "5c12be0c47a54fea945fe3d2d77db565",
            "ce750e3eefb844fea90aa5376fe50441",
            "26440888e2144645a86791ab85bfec80"
          ]
        },
        "outputId": "d9ccae00-781d-4bbc-98e6-e1c755a871fa"
      },
      "execution_count": null,
      "outputs": [
        {
          "output_type": "display_data",
          "data": {
            "text/plain": [
              "CaptumInsights(insights_config={'classes': ['airplane', 'automobile', 'bird', 'cat', 'deer', 'dog', 'frog', 'h…"
            ],
            "application/vnd.jupyter.widget-view+json": {
              "version_major": 2,
              "version_minor": 0,
              "model_id": "5c12be0c47a54fea945fe3d2d77db565"
            }
          },
          "metadata": {
            "application/vnd.jupyter.widget-view+json": {
              "colab": {
                "custom_widget_manager": {
                  "url": "https://ssl.gstatic.com/colaboratory-static/widgets/colab-cdn-widget-manager/a8874ba6619b6106/manager.min.js"
                }
              }
            }
          }
        },
        {
          "output_type": "display_data",
          "data": {
            "text/plain": [
              "Output()"
            ],
            "application/vnd.jupyter.widget-view+json": {
              "version_major": 2,
              "version_minor": 0,
              "model_id": "ce750e3eefb844fea90aa5376fe50441"
            }
          },
          "metadata": {
            "application/vnd.jupyter.widget-view+json": {
              "colab": {
                "custom_widget_manager": {
                  "url": "https://ssl.gstatic.com/colaboratory-static/widgets/colab-cdn-widget-manager/a8874ba6619b6106/manager.min.js"
                }
              }
            }
          }
        }
      ]
    }
  ]
}